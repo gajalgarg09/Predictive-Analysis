{
  "cells": [
    {
      "cell_type": "markdown",
      "metadata": {
        "id": "view-in-github",
        "colab_type": "text"
      },
      "source": [
        "<a href=\"https://colab.research.google.com/github/gajalgarg09/Predictive-Analysis/blob/main/Predictive_Lab2.ipynb\" target=\"_parent\"><img src=\"https://colab.research.google.com/assets/colab-badge.svg\" alt=\"Open In Colab\"/></a>"
      ]
    },
    {
      "cell_type": "code",
      "execution_count": null,
      "metadata": {
        "colab": {
          "base_uri": "https://localhost:8080/"
        },
        "id": "FYDj2XCV_pea",
        "outputId": "20895a59-4b99-4a4c-b47e-3a860b2dd891"
      },
      "outputs": [
        {
          "name": "stdout",
          "output_type": "stream",
          "text": [
            "blue\n",
            "2\n"
          ]
        }
      ],
      "source": [
        "# Q1 Create and access tuples.\n",
        "\n",
        "colours = (\"green\" , \"yellow\" , \"blue\" , \"pink\" , \"black\" , \"pink\")\n",
        "\n",
        "#\tAccessing elements using indexing.\n",
        "print(colours[2])\n",
        "\n",
        "# demonstrating immutability\n",
        "# colours[2] = \"red\"\n",
        "# print(colours)\n",
        "\n",
        "# finding number of occurences\n",
        "print(colours.count(\"pink\"))"
      ]
    },
    {
      "cell_type": "code",
      "execution_count": null,
      "metadata": {
        "colab": {
          "base_uri": "https://localhost:8080/"
        },
        "id": "VnzEYZ51BJXk",
        "outputId": "305cf987-9ae3-458a-e370-830ea27abaf5"
      },
      "outputs": [
        {
          "name": "stdout",
          "output_type": "stream",
          "text": [
            "Gazal\n",
            "Garg\n",
            "19\n",
            "Updated person :  {'Name': 'Gazal', 'Last name': 'Garg', 'Age': 19, 'City': 'Jaipur'}\n",
            "Updated person :  {'Name': 'Gazal', 'Last name': 'Garg', 'Age': 25, 'City': 'Jaipur'}\n",
            "City: Jaipur\n",
            "Keys: dict_keys(['Name', 'Last name', 'Age', 'City'])\n",
            "Values: dict_values(['Gazal', 'Garg', 25, 'Jaipur'])\n"
          ]
        }
      ],
      "source": [
        "# Q2 Create and manipulate dictionaries.\n",
        "person = { \"Name\" : \"Gazal\" ,\n",
        "          \"Last name\" : \"Garg\" ,\n",
        "           \"Age\" : 19\n",
        "           }\n",
        "\n",
        "# accessing using keys\n",
        "print(person[\"Name\"])\n",
        "print(person[\"Last name\"])\n",
        "print(person[\"Age\"])\n",
        "\n",
        "# adding a new key-value pair\n",
        "person[\"City\"] = \"Jaipur\"\n",
        "print(\"Updated person : \" , person)\n",
        "\n",
        "# modifying an existing value\n",
        "person[\"Age\"] = 25\n",
        "print(\"Updated person : \" , person)\n",
        "\n",
        "# checking if a key exists\n",
        "if \"City\" in person:\n",
        "    print(\"City:\", person[\"City\"])\n",
        "else:\n",
        "    print(\"City not found.\")\n",
        "\n",
        "\n",
        "# Get a list of all keys and values\n",
        "keys = person.keys()\n",
        "values = person.values()\n",
        "print(\"Keys:\", keys)\n",
        "print(\"Values:\", values)\n"
      ]
    },
    {
      "cell_type": "code",
      "execution_count": null,
      "metadata": {
        "colab": {
          "base_uri": "https://localhost:8080/"
        },
        "id": "7zKIjwLRDzjb",
        "outputId": "06cd4730-4b2d-45f5-e5d1-c394c1371303"
      },
      "outputs": [
        {
          "name": "stdout",
          "output_type": "stream",
          "text": [
            "Modified list: [10, 2, 3]\n"
          ]
        }
      ],
      "source": [
        "# Q3 Demonstrate the difference between mutable and immutable data types.\n",
        "\n",
        "my_list = [1,2,3]\n",
        "my_tuple = (4,5,6)\n",
        "\n",
        "# Try to modify an element in the list\n",
        "my_list[0] = 10\n",
        "print(\"Modified list:\", my_list)\n",
        "\n",
        "# Try to modify an element in the tuple\n",
        "# my_tuple[0] = 10\n",
        "# print(tuple)   # -> this will give error as tuple is immutable\n"
      ]
    },
    {
      "cell_type": "code",
      "execution_count": null,
      "metadata": {
        "colab": {
          "base_uri": "https://localhost:8080/"
        },
        "id": "DN3F849L8K4h",
        "outputId": "6147acb1-5552-4cf3-ffd3-169a6134f73f"
      },
      "outputs": [
        {
          "name": "stdout",
          "output_type": "stream",
          "text": [
            "Enter the number : 6\n",
            "6 X 1 = 6\n",
            "6 X 2 = 12\n",
            "6 X 3 = 18\n",
            "6 X 4 = 24\n",
            "6 X 5 = 30\n",
            "6 X 6 = 36\n",
            "6 X 7 = 42\n",
            "6 X 8 = 48\n",
            "6 X 9 = 54\n",
            "6 X 10 = 60\n"
          ]
        }
      ],
      "source": [
        "# Q4 Create a program to print the multiplication table of a number.\n",
        "\n",
        "num = int(input(\"Enter the number : \"))\n",
        "for i in range(1, 11):\n",
        "  print(num , \"X\" , i , \"=\" , num*i)"
      ]
    },
    {
      "cell_type": "code",
      "execution_count": null,
      "metadata": {
        "colab": {
          "base_uri": "https://localhost:8080/"
        },
        "id": "L9EQ3Qhf8tJv",
        "outputId": "df1c257f-cf81-41a6-b4d3-0b13790d50ae"
      },
      "outputs": [
        {
          "name": "stdout",
          "output_type": "stream",
          "text": [
            "Enter the number :  4\n",
            "24\n"
          ]
        }
      ],
      "source": [
        "# Q5 Create a program to find the factorial of a number using a loop and conditional statements.\n",
        "\n",
        "num = int(input(\"Enter the number :  \"))\n",
        "fact = 1\n",
        "\n",
        "for i in range ( 1 , num+1):\n",
        "  fact = fact * i\n",
        "\n",
        "print(fact)\n"
      ]
    },
    {
      "cell_type": "code",
      "execution_count": null,
      "metadata": {
        "colab": {
          "base_uri": "https://localhost:8080/"
        },
        "id": "xVOjwB3b9wLs",
        "outputId": "9d5f7e1a-945b-4343-c7c9-f5ec7a719f19"
      },
      "outputs": [
        {
          "name": "stdout",
          "output_type": "stream",
          "text": [
            "Enter a number: 13\n",
            "13 is a prime number.\n"
          ]
        }
      ],
      "source": [
        "# Q6 Write a program to check if a given number is prime.\n",
        "\n",
        "def is_prime(num):\n",
        "  if num <= 1:\n",
        "    return False\n",
        "\n",
        "  for i in range(2, int(num**0.5) + 1):\n",
        "    if num % i == 0:\n",
        "      return False\n",
        "\n",
        "  return True\n",
        "\n",
        "number = int(input(\"Enter a number: \"))\n",
        "\n",
        "if is_prime(number):\n",
        "  print(number, \"is a prime number.\")\n",
        "else:\n",
        "  print(number, \"is not a prime number.\")"
      ]
    },
    {
      "cell_type": "code",
      "execution_count": null,
      "metadata": {
        "colab": {
          "background_save": true
        },
        "id": "EqJCg4Ex5CGk",
        "outputId": "dd289d13-bf84-4504-a13f-7e7aa1381310"
      },
      "outputs": [
        {
          "name": "stdout",
          "output_type": "stream",
          "text": [
            "2550\n"
          ]
        }
      ],
      "source": [
        "#Q7 Create a program to find the sum of all even numbers between 1 and 100.\n",
        "\n",
        "sum = 0\n",
        "for i in range(0 , 101):\n",
        "  if( i % 2 == 0):\n",
        "    sum = sum + i\n",
        "\n",
        "print(sum)\n"
      ]
    },
    {
      "cell_type": "code",
      "execution_count": null,
      "metadata": {
        "colab": {
          "base_uri": "https://localhost:8080/"
        },
        "id": "5BuddiwXE3qa",
        "outputId": "0b3a188d-38d3-4cb8-93d0-54ef4e393581"
      },
      "outputs": [
        {
          "output_type": "stream",
          "name": "stdout",
          "text": [
            "Choose an operation:\n",
            "1. Addition\n",
            "2. Subtraction\n",
            "3. Multiplication\n",
            "4. Division\n",
            "5. Exit\n",
            "Enter your choice (1-5): 3\n",
            "Enter the first number: 5\n",
            "Enter the second number: 6\n",
            "Result: 30.0\n"
          ]
        }
      ],
      "source": [
        "# Q8 Implement a simple calculator using conditional statements and loops.\n",
        "print(\"Choose an operation:\")\n",
        "print(\"1. Addition\")\n",
        "print(\"2. Subtraction\")\n",
        "print(\"3. Multiplication\")\n",
        "print(\"4. Division\")\n",
        "print(\"5. Exit\")\n",
        "\n",
        "choice = input(\"Enter your choice (1-5): \")\n",
        "\n",
        "if choice == '5':\n",
        "  print(\"Exiting\")\n",
        "\n",
        "num1 = float(input(\"Enter the first number: \"))\n",
        "num2 = float(input(\"Enter the second number: \"))\n",
        "\n",
        "if choice == '1':\n",
        "    result = num1 + num2\n",
        "    print(\"Result:\", result)\n",
        "elif choice == '2':\n",
        "    result = num1 - num2\n",
        "    print(\"Result:\", result)\n",
        "elif choice == '3':\n",
        "    result = num1 * num2\n",
        "    print(\"Result:\", result)\n",
        "elif choice == '4':\n",
        "    if num2 == 0:\n",
        "        print(\"Error: Division by zero is not allowed.\")\n",
        "else:\n",
        "    result = num1 / num2\n",
        "    print(\"Result:\", result)\n",
        "\n"
      ]
    }
  ],
  "metadata": {
    "colab": {
      "provenance": [],
      "authorship_tag": "ABX9TyP4XMw7PlvsibZLAvLlZWNm",
      "include_colab_link": true
    },
    "kernelspec": {
      "display_name": "Python 3",
      "name": "python3"
    },
    "language_info": {
      "name": "python"
    }
  },
  "nbformat": 4,
  "nbformat_minor": 0
}